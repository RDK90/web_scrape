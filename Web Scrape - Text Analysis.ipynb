{
 "cells": [
  {
   "cell_type": "markdown",
   "metadata": {},
   "source": [
    "# Text Scraping and Classification \n"
   ]
  },
  {
   "cell_type": "markdown",
   "metadata": {},
   "source": [
    "The objective of this script is to scrape a corpus of news articles from a set of web pages, pre-process the corpus, and evaluate the performance of automated classification of these articles. \n",
    "\n",
    "This script uses a number of external python libraries such as BeautifulSoup, Sklearn, Matplotlib and NLTK, which will all be explained as they arise in the solution."
   ]
  },
  {
   "cell_type": "code",
   "execution_count": 20,
   "metadata": {},
   "outputs": [],
   "source": [
    "import bs4\n",
    "import urllib.request\n",
    "from sklearn.feature_extraction.text import CountVectorizer\n",
    "from sklearn.feature_extraction.text import TfidfVectorizer\n",
    "from nltk.stem.porter import PorterStemmer\n",
    "from sklearn.neighbors import KNeighborsClassifier\n",
    "from collections import Counter\n",
    "import matplotlib.pyplot as plt\n",
    "from sklearn.metrics import *\n",
    "from sklearn.model_selection import train_test_split\n",
    "from sklearn.pipeline import Pipeline\n",
    "from sklearn.model_selection import cross_val_score\n",
    "from sklearn.svm import LinearSVC\n",
    "from plot_confusion_matrix import plot_confusion_matrix\n",
    "import numpy as np"
   ]
  },
  {
   "cell_type": "markdown",
   "metadata": {},
   "source": [
    "Step 1 - Data Collection"
   ]
  },
  {
   "cell_type": "markdown",
   "metadata": {},
   "source": [
    "In this section of the script, the focus will be on scraping the news articles and categories from their respective websites, with the appropriate filtering, and storing the results in text files for analysis in the next step. \n",
    "\n",
    "Firstly, in order to initiate the web scraping process, a HTTP request needs to be made to the website. This is done via the Python module, urllib.request. Urllib.request is a module used for reading and retrieving information from websites. \n",
    "\n",
    "Secondly, after the response from the website is read and verified, a html parser will be called to read in the html code. This is done using the 3rd party library, BeautifulSoup. BeautifulSoup is a Python library that is used to extract data from HTML and XML files. In this case, we will be using it HTML parser. \n",
    "\n",
    "As the website that is being analysed for this script has a number of subpages, the process should be to retrieve the web links to the web pages that the articles are on,retrieve the categories of each articles, navigate to each article and save the article text. This requires a number of HTTP requests and as such a number of nested try statements. "
   ]
  },
  {
   "cell_type": "code",
   "execution_count": 21,
   "metadata": {},
   "outputs": [],
   "source": [
    "link = 'http://mlg.ucd.ie/modules/COMP41680/archive/'\n",
    "filter_one = 'Return to article search results'\n",
    "filter_two = 'Comments are closed for this article.'"
   ]
  },
  {
   "cell_type": "markdown",
   "metadata": {},
   "source": [
    "The filters, filter_one and filter_two are text filters that appear on some of the articles which are not part of the body of the article itself, but whose HTML code is indistinguishable from the rest of the article. These lines are ommitted from being scraped, as are categories titled 'N/A'. \n",
    "\n",
    "This process can take some time, particularly depending on the quality of the internet connection, so a print statement was added in at the end for when the scraping is finished."
   ]
  },
  {
   "cell_type": "markdown",
   "metadata": {},
   "source": [
    "After the content is retrieved and parsed, the content is saved to two text files, words.txt for the article contents, and categories.txt for the category labels."
   ]
  },
  {
   "cell_type": "code",
   "execution_count": 24,
   "metadata": {},
   "outputs": [
    {
     "name": "stdout",
     "output_type": "stream",
     "text": [
      "Web Scrape Complete\n"
     ]
    }
   ],
   "source": [
    "try:\n",
    "    #First search for main index page \n",
    "    response = urllib.request.urlopen(link + '/index.html')\n",
    "    html = response.read().decode()\n",
    "    urls = []\n",
    "    parser = bs4.BeautifulSoup(html, 'html.parser')\n",
    "    #Retrieves all the links for the monthly articles pages\n",
    "    #Saves the results in the urls list\n",
    "    ul_list = parser.find('ul')\n",
    "    li_list = ul_list.find_all('li')\n",
    "    for li in li_list:\n",
    "        url = li.find('a', href=True)\n",
    "        urls.append(url['href'])\n",
    "    categories = []\n",
    "    new_urls = []\n",
    "    words = []\n",
    "    for url in urls:\n",
    "        nav_url = link + url\n",
    "        try:\n",
    "            #Second search for articles and categories per month \n",
    "            url_response = urllib.request.urlopen(nav_url)\n",
    "            url_response = url_response.read().decode()\n",
    "            url_parser = bs4.BeautifulSoup(url_response, 'html.parser')\n",
    "            for match in url_parser.find_all(\"a\", href=True):\n",
    "                new_urls.append(match['href'])\n",
    "            table = url_parser.find('table', attrs={'class': 'table-condensed'})\n",
    "            table_body = table.find('tbody')\n",
    "            rows = table_body.find_all('tr')\n",
    "            #Collecting the categories per article per month page\n",
    "            for row in rows:\n",
    "                cols = row.find_all('td')\n",
    "                cols = [ele.text.strip() for ele in cols]\n",
    "                if cols[0] != 'N/A':\n",
    "                    #List to hold the categories\n",
    "                    categories.append(cols[0])\n",
    "                    words_url = row.find('a', href=True)\n",
    "                    if words_url is not None:\n",
    "                        words_url_request = link + words_url['href']\n",
    "                        try:\n",
    "                            #Third search to access each article\n",
    "                            words_url_response = urllib.request.urlopen(words_url_request)\n",
    "                            words_url_response = words_url_response.read().decode()\n",
    "                            words_parser = bs4.BeautifulSoup(words_url_response, 'html.parser')\n",
    "                            word_data = words_parser.find_all('div', attrs={'class': 'main'})\n",
    "                            for rows in word_data:\n",
    "                                title = rows.find_all('b')\n",
    "                                title = [ele.text.strip() for ele in title]\n",
    "                                data = rows.find_all('p')\n",
    "                                data = [ele.text.strip() for ele in data]\n",
    "                                for lines in data:\n",
    "                                    if lines == filter_one or lines == filter_two:\n",
    "                                        pass\n",
    "                                    else:\n",
    "                                        title.append(lines)\n",
    "                                #List to hold the article content\n",
    "                                words.append(title)\n",
    "                        except urllib.error.HTTPError as e:\n",
    "                            print(e.reason + ' 3rd Try ' + words_url_request)\n",
    "        except urllib.error.HTTPError as e:\n",
    "            print(e.reason + ' 2nd Try ' + nav_url)\n",
    "except urllib.error.HTTPError as e:\n",
    "    print(e.reason + ' 1st Try ' + link)\n",
    "    \n",
    "print('Web Scrape Complete')"
   ]
  },
  {
   "cell_type": "code",
   "execution_count": 25,
   "metadata": {},
   "outputs": [],
   "source": [
    "with open('categories.txt', 'w') as cat_file:\n",
    "    for data in categories:\n",
    "        cat_file.write(\"%s\\n\" % data)\n",
    "cat_file.close()\n",
    "\n",
    "with open('words.txt', 'w') as word_file:\n",
    "    for articles in words:\n",
    "        for lines in articles:\n",
    "            word_file.write(\"%s \" % lines)\n",
    "        word_file.write('\\n')\n",
    "word_file.close()"
   ]
  },
  {
   "cell_type": "markdown",
   "metadata": {},
   "source": [
    "Step 2 - Text Classification"
   ]
  },
  {
   "cell_type": "markdown",
   "metadata": {},
   "source": [
    "Firstly, the text needs to be extracted from the text files. A method was created to extract the data from the file, strip unnecessary punctuation and return a list with the data."
   ]
  },
  {
   "cell_type": "code",
   "execution_count": 26,
   "metadata": {},
   "outputs": [],
   "source": [
    "#Method to extract text from files\n",
    "def get_data_from_file(file):\n",
    "    raw_documents = []\n",
    "    with open(file, 'r') as word_file:\n",
    "        for lines in word_file:\n",
    "            raw_documents.append(lines.strip())\n",
    "    word_file.close()\n",
    "    return raw_documents\n",
    "\n",
    "docs = get_data_from_file('words.txt')\n",
    "cats = get_data_from_file('categories.txt')"
   ]
  },
  {
   "cell_type": "markdown",
   "metadata": {},
   "source": [
    "Next, the data needs to be split into training data and test data. Training data is the data that is used to teach the models how to classify new data. Test data is the data that will be used to see how accurate the models are in their predictions. In this assignment, a 80/20 split between training data and test data was chosen. This ratio can be as high as 2:1, but 80/20 is sufficient for this analysis. "
   ]
  },
  {
   "cell_type": "code",
   "execution_count": 27,
   "metadata": {},
   "outputs": [],
   "source": [
    "train_docs, test_docs, train_cats, test_cats = train_test_split(docs, cats, test_size=0.2)"
   ]
  },
  {
   "cell_type": "markdown",
   "metadata": {},
   "source": [
    "Next, the data needs to go through a phase known as pre-processing. This is the process of removing unnecessary or insignificant data points, as well as amalgamating like data points. \n",
    "\n",
    "Specifically, it was decided that terms that appeared less than 5 times would be discarded. A 'stop word' list was also applied. This is a list of words of very common but non-descriptive words that do no contribute to the classification of the data. Stemming was also applied, which is the process of removing tail endings to words in order to group more words by their core meaning. An example would be stemming computers, computing and compute to comput. \n",
    "\n",
    "This pre-processing was then term-weighted using a TD-IDF (term frequency–inverse document frequency) vector. This is a statistical measure of how important a word is based on how often a word appears in a given body of text. "
   ]
  },
  {
   "cell_type": "code",
   "execution_count": 28,
   "metadata": {},
   "outputs": [],
   "source": [
    "#Build stem tokenizer\n",
    "def stem_tokenizer(text):\n",
    "    # use the standard scikit-learn tokenizer first\n",
    "    standard_tokenizer = CountVectorizer().build_tokenizer()\n",
    "    tokens = standard_tokenizer(text)\n",
    "    # then use NLTK to perform stemming on each token\n",
    "    stemmer = PorterStemmer()\n",
    "    stems = []\n",
    "    for token in tokens:\n",
    "        stems.append(stemmer.stem(token))\n",
    "    return stems\n",
    "\n",
    "#Creating the TD-IDF Matrix with pre-processing\n",
    "tf_idf_vectorizer = TfidfVectorizer(min_df=5, strip_accents='ascii', stop_words='english', tokenizer=stem_tokenizer)\n",
    "tf_idf_vector = tf_idf_vectorizer.fit_transform(train_docs)"
   ]
  },
  {
   "cell_type": "markdown",
   "metadata": {},
   "source": [
    "The next step is to build the models. In this assignment, the task is to compare two different modelling types. The two types chosen were a K-Neighbours model and a Support Vector Machine model, specifically a linear support vector classifier. These classifiers were chosen because they are commonly used in document analysis and as such it is an apt opportunity to compare the two. \n",
    "\n",
    "A model of each was built, with the number of neighbours for the K-Neighbours model chosen to be three, and the training data from the TD-IDF vector was applied to each. The test data was applied to the same TF-IDF vector and predictions were made. "
   ]
  },
  {
   "cell_type": "code",
   "execution_count": 29,
   "metadata": {},
   "outputs": [],
   "source": [
    "#Building models with the training categories\n",
    "knn_model = KNeighborsClassifier(n_neighbors=3)\n",
    "knn_model.fit(tf_idf_vector, train_cats)\n",
    "svc_model = LinearSVC()\n",
    "svc_model.fit(tf_idf_vector, train_cats)\n",
    "\n",
    "#Fitting the test data\n",
    "test_data = tf_idf_vectorizer.transform(test_docs)\n",
    "\n",
    "#Obtaining the prediction data from the test data\n",
    "knn_predict = knn_model.predict(test_data)\n",
    "svc_predict = svc_model.predict(test_data)"
   ]
  },
  {
   "cell_type": "markdown",
   "metadata": {},
   "source": [
    "The output of the prodictions cane be seen below."
   ]
  },
  {
   "cell_type": "code",
   "execution_count": 30,
   "metadata": {},
   "outputs": [
    {
     "data": {
      "image/png": "[encoded data removed]",
      "text/plain": [
       "<matplotlib.figure.Figure at 0x7f5011ed82b0>"
      ]
     },
     "metadata": {},
     "output_type": "display_data"
    },
    {
     "data": {
      "image/png": "[encoded data removed]",
      "text/plain": [
       "<matplotlib.figure.Figure at 0x7f500982f160>"
      ]
     },
     "metadata": {},
     "output_type": "display_data"
    }
   ],
   "source": [
    "#Getting a count of the prediction data\n",
    "knn_data = Counter(knn_predict)\n",
    "svc_data = Counter(svc_predict)\n",
    "target_names = list(set(train_cats))\n",
    "\n",
    "#Plotting the predicted data results\n",
    "fig1, ax1 = plt.subplots()\n",
    "ax1.pie(knn_data.values(), labels=knn_data.items(), autopct='%1.1f%%',\n",
    "        shadow=True, startangle=90)\n",
    "ax1.axis('equal')\n",
    "\n",
    "fig2, ax2 = plt.subplots()\n",
    "ax2.pie(svc_data.values(), labels=svc_data.items(), autopct='%1.1f%%',\n",
    "        shadow=True, startangle=90)\n",
    "ax2.axis('equal')\n",
    "plt.show()"
   ]
  },
  {
   "cell_type": "markdown",
   "metadata": {},
   "source": [
    "Step 3 - Evaluation"
   ]
  },
  {
   "cell_type": "markdown",
   "metadata": {},
   "source": [
    "The first evaluation is a simple accuracy measurement. This is the number of correct answers versus the correct data."
   ]
  },
  {
   "cell_type": "code",
   "execution_count": 31,
   "metadata": {},
   "outputs": [
    {
     "name": "stdout",
     "output_type": "stream",
     "text": [
      "0.95\n",
      "0.979\n"
     ]
    }
   ],
   "source": [
    "#Calculating the accuracy of the models\n",
    "knn_accuracy = accuracy_score(test_cats, knn_predict)\n",
    "svc_accuracy = accuracy_score(test_cats, svc_predict)\n",
    "\n",
    "print(round(knn_accuracy, 3))\n",
    "print(round(svc_accuracy, 3))"
   ]
  },
  {
   "cell_type": "markdown",
   "metadata": {},
   "source": [
    "The next evalution measurement is a confusion matrix. A confusion matrix shows where the errors occur. In this assignment, it can show which documents were incorrectly labelled and which label they were incorrectly labelled with."
   ]
  },
  {
   "cell_type": "code",
   "execution_count": 32,
   "metadata": {},
   "outputs": [
    {
     "name": "stdout",
     "output_type": "stream",
     "text": [
      "Confusion matrix, without normalization\n",
      "[[ 84   1   7]\n",
      " [  2 112   0]\n",
      " [  1   3  72]]\n",
      "Confusion matrix, without normalization\n",
      "[[ 88   1   3]\n",
      " [  0 114   0]\n",
      " [  0   2  74]]\n"
     ]
    },
    {
     "data": {
      "image/png": "[encoded data removed]",
      "text/plain": [
       "<matplotlib.figure.Figure at 0x7f5009641eb8>"
      ]
     },
     "metadata": {},
     "output_type": "display_data"
    },
    {
     "data": {
      "image/png": "[encoded data removed]",
      "text/plain": [
       "<matplotlib.figure.Figure at 0x7f50096417b8>"
      ]
     },
     "metadata": {},
     "output_type": "display_data"
    }
   ],
   "source": [
    "import itertools\n",
    "\n",
    "#Building a confusion matrix per model\n",
    "knn_cm = confusion_matrix(test_cats, knn_predict)\n",
    "svc_cm = confusion_matrix(test_cats, svc_predict)\n",
    "\n",
    "def plot_confusion_matrix(cm, classes,\n",
    "                          normalize=False,\n",
    "                          title='Confusion matrix',\n",
    "                          cmap=plt.cm.Blues):\n",
    "    \"\"\"\n",
    "    This function prints and plots the confusion matrix.\n",
    "    Normalization can be applied by setting `normalize=True`.\n",
    "    \"\"\"\n",
    "    if normalize:\n",
    "        cm = cm.astype('float') / cm.sum(axis=1)[:, np.newaxis]\n",
    "        print(\"Normalized confusion matrix\")\n",
    "    else:\n",
    "        print('Confusion matrix, without normalization')\n",
    "\n",
    "    print(cm)\n",
    "\n",
    "    plt.imshow(cm, interpolation='nearest', cmap=cmap)\n",
    "    plt.title(title)\n",
    "    plt.colorbar()\n",
    "    tick_marks = np.arange(len(classes))\n",
    "    plt.xticks(tick_marks, classes, rotation=45)\n",
    "    plt.yticks(tick_marks, classes)\n",
    "\n",
    "    fmt = '.2f' if normalize else 'd'\n",
    "    thresh = cm.max() / 2.\n",
    "    for i, j in itertools.product(range(cm.shape[0]), range(cm.shape[1])):\n",
    "        plt.text(j, i, format(cm[i, j], fmt),\n",
    "                 horizontalalignment=\"center\",\n",
    "                 color=\"white\" if cm[i, j] > thresh else \"black\")\n",
    "\n",
    "    plt.tight_layout()\n",
    "    plt.ylabel('True label')\n",
    "    plt.xlabel('Predicted label')\n",
    "    \n",
    "#Plotting the confusion matrices\n",
    "plt.figure()\n",
    "plot_confusion_matrix(knn_cm, classes=target_names, title='KNN Confusion Matrix')\n",
    "plt.figure()\n",
    "plot_confusion_matrix(svc_cm, classes=target_names, title='SVC Confusion Matrix')\n",
    "plt.show()"
   ]
  },
  {
   "cell_type": "markdown",
   "metadata": {},
   "source": [
    "The next performance metric is a classification report. This shows a table of the precision, recall and F1 scoring of each label, as well as the average result for each report. "
   ]
  },
  {
   "cell_type": "code",
   "execution_count": 33,
   "metadata": {},
   "outputs": [
    {
     "name": "stdout",
     "output_type": "stream",
     "text": [
      "             precision    recall  f1-score   support\n",
      "\n",
      "   business       0.97      0.91      0.94        92\n",
      "      sport       0.97      0.98      0.97       114\n",
      " technology       0.91      0.95      0.93        76\n",
      "\n",
      "avg / total       0.95      0.95      0.95       282\n",
      "\n",
      "             precision    recall  f1-score   support\n",
      "\n",
      "   business       1.00      0.96      0.98        92\n",
      "      sport       0.97      1.00      0.99       114\n",
      " technology       0.96      0.97      0.97        76\n",
      "\n",
      "avg / total       0.98      0.98      0.98       282\n",
      "\n"
     ]
    }
   ],
   "source": [
    "#Building a performance report\n",
    "knn_report = classification_report(test_cats, knn_predict, target_names=target_names)\n",
    "svc_report = classification_report(test_cats, svc_predict, target_names=target_names)\n",
    "\n",
    "print(knn_report)\n",
    "print(svc_report)"
   ]
  },
  {
   "cell_type": "markdown",
   "metadata": {},
   "source": [
    "However, the most important performance metric would be the k-Fold Cross Validation tests. Earlier in the assignment, it was seen that the data was split 80/20 for training and test data. However, as this split is random, it can be difficult to ensure that the results are not random. A k-Fold Cross Validation test, divides the data into a number of folds, splits the data into training and test data and then repeats the experiments while calculating the accuracy and error rates. As this repeats over the data a number of times, the likelihood of random results decreases. \n",
    "\n",
    "In this case a new TD-IDF vector and model were built and five folds were chosen for the tests for each model."
   ]
  },
  {
   "cell_type": "code",
   "execution_count": 34,
   "metadata": {},
   "outputs": [],
   "source": [
    "#Creating a cross validation test for both models\n",
    "knn_clf = Pipeline([('vect', TfidfVectorizer()), ('knn', KNeighborsClassifier(n_neighbors=3))])\n",
    "knn_acc_scores = cross_val_score(knn_clf, train_docs, train_cats, cv=5, scoring=\"accuracy\")\n",
    "svc_clf = Pipeline([('vect', TfidfVectorizer()), ('svc', LinearSVC())])\n",
    "svc_acc_scores = cross_val_score(svc_clf, train_docs, train_cats, cv=5, scoring=\"accuracy\")"
   ]
  },
  {
   "cell_type": "markdown",
   "metadata": {},
   "source": [
    "The accuracy markers from a single test and the average accuracy from a k-Fold Cross Validation test can then be compared. "
   ]
  },
  {
   "cell_type": "code",
   "execution_count": 35,
   "metadata": {},
   "outputs": [
    {
     "data": {
      "image/png": "[encoded data removed]",
      "text/plain": [
       "<matplotlib.figure.Figure at 0x7f5012101358>"
      ]
     },
     "metadata": {},
     "output_type": "display_data"
    },
    {
     "name": "stdout",
     "output_type": "stream",
     "text": [
      "Results are a single test\n",
      "0.95\n",
      "0.979\n",
      "Average results from the k-Folds Cross Validation Test\n",
      "0.956\n",
      "0.987\n"
     ]
    }
   ],
   "source": [
    "#Plotting the accuracy results\n",
    "plt.figure()\n",
    "knn_accuracy_data = (knn_accuracy, knn_acc_scores.mean())\n",
    "svc_accuracy_data = (svc_accuracy, svc_acc_scores.mean())\n",
    "width = 0.25\n",
    "x = np.arange(2)\n",
    "ax = plt.subplot()\n",
    "k = ax.bar(x, knn_accuracy_data, width, color='blue')\n",
    "s = ax.bar(x + width, svc_accuracy_data, width, color='green')\n",
    "ax.set_xticks(x + width / 2)\n",
    "ax.set_xticklabels(('KNN', 'SVC'))\n",
    "ax.legend((k, s), ('Accuracy Result', 'Cross Validation Average'))\n",
    "plt.title('Accuracy Results')\n",
    "plt.tight_layout()\n",
    "plt.ylabel('Accuracy Percentage')\n",
    "plt.xlabel('KNN vs SVC')\n",
    "plt.show()\n",
    "\n",
    "print('Results are a single test')\n",
    "print(round(knn_accuracy, 3))\n",
    "print(round(svc_accuracy, 3))\n",
    "\n",
    "print('Average results from the k-Folds Cross Validation Test')\n",
    "print(round(knn_acc_scores.mean(), 3))\n",
    "print(round(svc_acc_scores.mean(), 3))"
   ]
  },
  {
   "cell_type": "markdown",
   "metadata": {},
   "source": [
    "In conclusion, after a number of tests it was seen that overall the SVC model is more accurate after both a single test and a k-folds cross validation test than the K-Nearest Neighbours model. The K-Nearest Neighbours model can be tuned to look for more neighbours, in this case three was chosen, but the methods to choose a more accurate K value were not explored in this assignment. The K-Nearest Neighbours can also be quite susceptible to noise. This is why the pre-processing is so important. It is possible that using a technique known as lemmatisation instead of stemming could make the data more accurate. Lemmatisation is the process of reducing a term to its canonical form. However, this can be difficult to implement without in depth knowledge of the language being analysed. However, this could potentially improve the performance of both models. "
   ]
  }
 ],
 "metadata": {
  "kernelspec": {
   "display_name": "Python 3",
   "language": "python",
   "name": "python3"
  },
  "language_info": {
   "codemirror_mode": {
    "name": "ipython",
    "version": 3
   },
   "file_extension": ".py",
   "mimetype": "text/x-python",
   "name": "python",
   "nbconvert_exporter": "python",
   "pygments_lexer": "ipython3",
   "version": "3.6.6"
  }
 },
 "nbformat": 4,
 "nbformat_minor": 2
}
